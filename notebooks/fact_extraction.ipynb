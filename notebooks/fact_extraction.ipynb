{
 "cells": [
  {
   "cell_type": "markdown",
   "id": "3c731694-9678-476a-82de-12ae48128521",
   "metadata": {},
   "source": [
    "# Fact Extraction Model"
   ]
  },
  {
   "cell_type": "code",
   "execution_count": 24,
   "id": "3de43658-c14b-407b-8063-a9585d18ea8b",
   "metadata": {
    "tags": []
   },
   "outputs": [],
   "source": [
    "OLLAMA_MODEL = \"llama3.2\"\n",
    "# OLLAMA_MODEL = \"llama2\"\n",
    "\n",
    "OLLAMA_HOST = \"http://host.docker.internal:11434\" # for when running within docker image\n",
    "# OLLAMA_HOST = \"http://localhost:11434\""
   ]
  },
  {
   "cell_type": "code",
   "execution_count": 71,
   "id": "d6c1591a-a299-4484-84ac-2942594d8551",
   "metadata": {
    "tags": []
   },
   "outputs": [
    {
     "name": "stdout",
     "output_type": "stream",
     "text": [
      "\u001b[33mWARNING: Running pip as the 'root' user can result in broken permissions and conflicting behaviour with the system package manager. It is recommended to use a virtual environment instead: https://pip.pypa.io/warnings/venv\u001b[0m\u001b[33m\n",
      "Get:1 http://security.ubuntu.com/ubuntu jammy-security InRelease [129 kB]\n",
      "Hit:2 http://archive.ubuntu.com/ubuntu jammy InRelease  \n",
      "Get:3 http://archive.ubuntu.com/ubuntu jammy-updates InRelease [128 kB]\n",
      "Get:4 http://archive.ubuntu.com/ubuntu jammy-backports InRelease [127 kB]\n",
      "Fetched 384 kB in 1s (449 kB/s)   \n",
      "Reading package lists... Done\n",
      "Reading package lists... Done\n",
      "Building dependency tree... Done\n",
      "Reading state information... Done\n",
      "curl is already the newest version (7.81.0-1ubuntu1.18).\n",
      "unzip is already the newest version (6.0-26ubuntu3.2).\n",
      "wget is already the newest version (1.21.2-2ubuntu1.1).\n",
      "0 upgraded, 0 newly installed, 0 to remove and 74 not upgraded.\n",
      "Reading package lists... Done\n",
      "Building dependency tree... Done\n",
      "Reading state information... Done\n",
      "libxcomposite-dev is already the newest version (1:0.4.5-1build2).\n",
      "libxdamage-dev is already the newest version (1:1.1.5-2build2).\n",
      "libxrandr-dev is already the newest version (2:1.5.2-1build1).\n",
      "libgbm-dev is already the newest version (23.2.1-1ubuntu3.1~22.04.2).\n",
      "libgtk-3-dev is already the newest version (3.24.33-1ubuntu2.2).\n",
      "libx11-dev is already the newest version (2:1.7.5-1ubuntu0.3).\n",
      "0 upgraded, 0 newly installed, 0 to remove and 74 not upgraded.\n"
     ]
    },
    {
     "name": "stderr",
     "output_type": "stream",
     "text": [
      "[nltk_data] Downloading package punkt to /root/nltk_data...\n",
      "[nltk_data]   Package punkt is already up-to-date!\n"
     ]
    }
   ],
   "source": [
    "!pip install -r requirements.txt -q\n",
    "\n",
    "import requests\n",
    "import asyncio\n",
    "import aiohttp\n",
    "import nest_asyncio\n",
    "from playwright.async_api import async_playwright\n",
    "from bs4 import BeautifulSoup\n",
    "from langchain.prompts import PromptTemplate\n",
    "from langchain.chains import LLMChain\n",
    "from langchain.llms import Ollama\n",
    "from fuzzywuzzy import fuzz\n",
    "from fuzzywuzzy import process\n",
    "import nest_asyncio\n",
    "import asyncio\n",
    "import aiohttp\n",
    "from bs4 import BeautifulSoup\n",
    "import nltk\n",
    "from nltk.tokenize import sent_tokenize\n",
    "import nltk\n",
    "nltk.download('punkt')\n",
    "from langchain.prompts import PromptTemplate\n",
    "from langchain.prompts import PromptTemplate\n",
    "from langchain.chains import LLMChain\n",
    "from langchain.llms import Ollama"
   ]
  },
  {
   "cell_type": "code",
   "execution_count": 26,
   "id": "bbc874cb-e9ba-4cb4-9ef4-a7dc49b476e4",
   "metadata": {
    "colab": {
     "base_uri": "https://localhost:8080/"
    },
    "id": "bYM8t-UcBoWm",
    "outputId": "d6d85040-834b-44e2-daa9-841d1a0a6514",
    "tags": []
   },
   "outputs": [],
   "source": [
    "nest_asyncio.apply()\n",
    "\n",
    "ollama_model = Ollama(model=OLLAMA_MODEL, base_url=OLLAMA_HOST)"
   ]
  },
  {
   "cell_type": "code",
   "execution_count": 64,
   "id": "5d96f665-ae23-4e7b-b371-5e5f784b46b3",
   "metadata": {
    "tags": []
   },
   "outputs": [],
   "source": [
    "from langchain_core.prompts import PromptTemplate\n",
    "from langchain_core.prompts import FewShotPromptTemplate\n",
    "\n",
    "# claim_parse_system_prompt = \"You are a tool to extract notable claims from text and return those excerpts alongside the claim being made, with clear subjects and predicates. In the event of no claims, just return '[NA]'.\"\n",
    "claim_parse_example_prompt = PromptTemplate.from_template(\"Text: {input}\\nOutput:\\n{response}\")\n",
    "claim_parse_examples = [{\n",
    "    \"input\": \"\"\"The New York Times Tech Guild ended its unfair labor practice strike Monday, one week after a majority of the 600-person unit walked off the job just before Election Day.\"\"\",\n",
    "    \"response\": \"\"\"'The New York Times Tech Guild ended its unfair labor practice strike Monday': The New York Times Tech Guild ended its strike Monday.\"\"\"\n",
    "},\n",
    "{\n",
    "    \"input\": \"@realDonaldTrump: Lyin’ Kamala is giving a News Conference now, saying that I want to end the Affordable Care Act. I never mentioned doing that, never even thought about such a thing. She also said I want to end Social Security. Likewise, never mentioned it, or thought of it. She is the one that wants to end Social Security and, she will do it, by putting the millions of Migrants coming into our Country into it. Kamala is a LIAR! Everything that comes out of her mouth is a LIE. It’s MADE UP FICTION, and she’s doing it because she’s losing, and losing BIG!\",\n",
    "    \"response\" : \"\"\"Excerpt: 'Lyin’ Kamala is giving a News Conference now, saying that I want to end the Affordable Care Act.'\\nRestatement: Kamala Harris has said that Donald Trump wants to end the Affordable Care Act.\n",
    "Excerpt: 'I never mentioned doing that, never even thought about such a thing'\\nRestatement: Donald Trump never said he wanted to end the Affordable Care Act.\n",
    "Excerpt: 'She also said I want to end Social Security.'\\nRestatement: Kamala Harris said that Donald Trump wants to end Social Security.\n",
    "Excerpt: 'Likewise, never mentioned it, or thought of it'\\nRestatement: Donald Trump never mentioned he wanted to end Social Security.\n",
    "Excerpt: 'She is the one that wants to end Social Security and, she will do it'\\nRestatement: Kamala Harris will end Social Security.\n",
    "Excerpt: 'by putting the millions of Migrants coming into our Country into it.'\\nRestatement: Kamala Harris plans to add millions of migrants to Social Security.\n",
    "Excerpt: 'she’s losing, and losing BIG!'\\nRestatement: Kamala Harris is losing the election.\"\"\"\n",
    "},\n",
    "{\n",
    "    \"input\": \"\"\"\n",
    "        Blooming flower buds next to trees with changing leaves. Fans and air conditioners working overtime. Iced coffees instead of hot ones. Temperatures more like Florida than the Mid-Atlantic. The weather has been weirdly warm in the eastern two-thirds of the United States as November gets started — more than 10 degrees above average across parts of over 20 states.\n",
    "\n",
    "        Want to know how your actions can help make a difference for our planet? Sign up for the Climate Coach newsletter, in your inbox every Tuesday and Thursday.\n",
    "        Conditions in the Rockies and on the West Coast have balanced out some of the unusual eastern warmth, with cooler-than-average temperatures and a big early-season dump of snow.\n",
    "\n",
    "        But in the eastern half of the nation, will you eventually be able to pull out your hats and gloves this coming winter? Or is the subtropical weather here to stay?\n",
    "    \"\"\",\n",
    "    \"response\": \"\"\"Excerpt: 'The weather has been weirdly warm in the eastern two-thirds of the United States as November gets started — more than 10 degrees above average across parts of over 20 states.'\\nRestatement: The weather has been 10 degrees above average across parts of 20 states.\n",
    "Excerpt: 'Conditions in the Rockies and on the West Coast have balanced out some of the unusual eastern warmth, with cooler-than-average temperatures and a big early-season dump of snow.'\\nRestatement: The Rockies have had cooler-than-average temperatures and large, early amounts of snow.\"\"\"\n",
    "},\n",
    "{\n",
    "    \"input\": \"\"\"\n",
    "        Silent snowfall drifts,\n",
    "        blanketing the world in white,\n",
    "        winter’s breath, so still.\n",
    "    \"\"\",\n",
    "    \"response\": \"\"\"No notable claims found.\"\"\"\n",
    "},\n",
    "{\n",
    "    \"input\": \"\"\"What are the most effective strategies for enhancing productivity in a remote work environment? How do different communication styles impact team dynamics? Is it possible to boost creativity through structured brainstorming sessions, or do they stifle innovation? What role does technology play in maintaining work-life balance? Should companies prioritize flexibility over traditional work hours, and what are the potential downsides of doing so? How can organizations ensure that they are fostering an inclusive culture for employees from diverse backgrounds? What metrics should be used to evaluate employee satisfaction effectively? Is there a way to quantify the long-term benefits of professional development programs? How can leaders balance transparency with confidentiality in decision-making?\"\"\",\n",
    "    \"response\": \"\"\"No notable claims found.\"\"\"\n",
    "},\n",
    "{\n",
    "    \"input\": \"\"\"\n",
    "        Eboni Thompson’s Instagram isn’t just an ode to the classic literature that she loves. It’s also a celebration of annotation: Warmly lit video reels linger on the colorful tabs that fringe the edges of her Penguin Classics, the ruler-straight lines highlighting important passages and the margins where neat handwriting frames each page.\n",
    "\n",
    "        Annotations have traditionally been the domain of academics, used to add commentary, feedback and criticism to texts. Annotation is “elemental to scholarship,” according to Remi Kalir and Antero Garcia, who literally wrote the book on annotation (“Annotation,” MIT Press). As a reminder of the high-minded history of marginalia, they note that Milton annotated Shakespeare.\n",
    "    \"\"\",\n",
    "    \"response\": \"\"\"Excerpt: 'Annotation is “elemental to scholarship,” according to Remi Kalir and Antero Garcia'\\nRestatement: Remi Kalir and Antero Garcia said that annotation is elemental to scholarship.\n",
    "Excerpt: 'who literally wrote the book on annotation (“Annotation,” MIT Press)'\\nRestatement: Remi Kalir and Antero Garcia wrote a book on annotation.\"\"\"\n",
    "},\n",
    "{\n",
    "    \"input\": \"\"\"BREAKING NEWS: BEYONCE WAS INVOLVED IN A HORRIFIC CAR CRASH! #RIPBEYONCE\"\"\",\n",
    "    \"response\": \"\"\"Excerpt:'BEYONCE WAS INVOLVED IN A HORRIFIC CAR CRASH! #RIPBEYONCE'\\nRestatement: Beyonce has died in a car crash.\"\"\"\n",
    "}]\n",
    "\n",
    "claim_parse_prompt = FewShotPromptTemplate(\n",
    "    examples=claim_parse_examples,\n",
    "    example_prompt=claim_parse_example_prompt,\n",
    "    prefix=\"\"\"You are an advanced language model tasked with identifying notable claims within a given text. For each claim, return:\n",
    "1. The exact excerpt where the claim is made.\n",
    "2. A summary of the claim, clarifying the main assertion.\n",
    "\n",
    "Notable claims include:\n",
    "- Allegations about events or actions.\n",
    "- Statistics, figures, or specific measurements cited.\n",
    "- Attributed quotes or opinions linked to a particular person or group.\n",
    "- Predictions or assertions that could impact public perception or lead to real-world consequences if inaccurate.\n",
    "\n",
    "If there are no notable claims in the text, return: \"No notable claims found.\" Below are a series of examples.\n",
    "\"\"\",\n",
    "    suffix=\"\\n\\nNow, process the following text accordingly.\\n\\nText: {input}\",\n",
    "    input_variables=[\"input\"],\n",
    ")"
   ]
  },
  {
   "cell_type": "code",
   "execution_count": 66,
   "id": "a419b2d4-2653-417d-9491-8bdb6d872474",
   "metadata": {
    "tags": []
   },
   "outputs": [
    {
     "name": "stdout",
     "output_type": "stream",
     "text": [
      "You are an advanced language model tasked with identifying notable claims within a given text. For each claim, return:\n",
      "1. The exact excerpt where the claim is made.\n",
      "2. A summary of the claim, clarifying the main assertion.\n",
      "\n",
      "Notable claims include:\n",
      "- Allegations about events or actions.\n",
      "- Statistics, figures, or specific measurements cited.\n",
      "- Attributed quotes or opinions linked to a particular person or group.\n",
      "- Predictions or assertions that could impact public perception or lead to real-world consequences if inaccurate.\n",
      "\n",
      "If there are no notable claims in the text, return: \"No notable claims found.\" Below are a series of examples.\n",
      "\n",
      "\n",
      "Text: The New York Times Tech Guild ended its unfair labor practice strike Monday, one week after a majority of the 600-person unit walked off the job just before Election Day.\n",
      "Output:\n",
      "'The New York Times Tech Guild ended its unfair labor practice strike Monday': The New York Times Tech Guild ended its strike Monday.\n",
      "\n",
      "Text: @realDonaldTrump: Lyin’ Kamala is giving a News Conference now, saying that I want to end the Affordable Care Act. I never mentioned doing that, never even thought about such a thing. She also said I want to end Social Security. Likewise, never mentioned it, or thought of it. She is the one that wants to end Social Security and, she will do it, by putting the millions of Migrants coming into our Country into it. Kamala is a LIAR! Everything that comes out of her mouth is a LIE. It’s MADE UP FICTION, and she’s doing it because she’s losing, and losing BIG!\n",
      "Output:\n",
      "Excerpt: 'Lyin’ Kamala is giving a News Conference now, saying that I want to end the Affordable Care Act.'\n",
      "Restatement: Kamala Harris has said that Donald Trump wants to end the Affordable Care Act.\n",
      "Excerpt: 'I never mentioned doing that, never even thought about such a thing'\n",
      "Restatement: Donald Trump never said he wanted to end the Affordable Care Act.\n",
      "Excerpt: 'She also said I want to end Social Security.'\n",
      "Restatement: Kamala Harris said that Donald Trump wants to end Social Security.\n",
      "Excerpt: 'Likewise, never mentioned it, or thought of it'\n",
      "Restatement: Donald Trump never mentioned he wanted to end Social Security.\n",
      "Excerpt: 'She is the one that wants to end Social Security and, she will do it'\n",
      "Restatement: Kamala Harris will end Social Security.\n",
      "Excerpt: 'by putting the millions of Migrants coming into our Country into it.'\n",
      "Restatement: Kamala Harris plans to add millions of migrants to Social Security.\n",
      "Excerpt: 'she’s losing, and losing BIG!'\n",
      "Restatement: Kamala Harris is losing the election.\n",
      "\n",
      "Text: \n",
      "        Blooming flower buds next to trees with changing leaves. Fans and air conditioners working overtime. Iced coffees instead of hot ones. Temperatures more like Florida than the Mid-Atlantic. The weather has been weirdly warm in the eastern two-thirds of the United States as November gets started — more than 10 degrees above average across parts of over 20 states.\n",
      "\n",
      "        Want to know how your actions can help make a difference for our planet? Sign up for the Climate Coach newsletter, in your inbox every Tuesday and Thursday.\n",
      "        Conditions in the Rockies and on the West Coast have balanced out some of the unusual eastern warmth, with cooler-than-average temperatures and a big early-season dump of snow.\n",
      "\n",
      "        But in the eastern half of the nation, will you eventually be able to pull out your hats and gloves this coming winter? Or is the subtropical weather here to stay?\n",
      "    \n",
      "Output:\n",
      "Excerpt: 'The weather has been weirdly warm in the eastern two-thirds of the United States as November gets started — more than 10 degrees above average across parts of over 20 states.'\n",
      "Restatement: The weather has been 10 degrees above average across parts of 20 states.\n",
      "Excerpt: 'Conditions in the Rockies and on the West Coast have balanced out some of the unusual eastern warmth, with cooler-than-average temperatures and a big early-season dump of snow.'\n",
      "Restatement: The Rockies have had cooler-than-average temperatures and large, early amounts of snow.\n",
      "\n",
      "Text: \n",
      "        Silent snowfall drifts,\n",
      "        blanketing the world in white,\n",
      "        winter’s breath, so still.\n",
      "    \n",
      "Output:\n",
      "No notable claims found.\n",
      "\n",
      "Text: What are the most effective strategies for enhancing productivity in a remote work environment? How do different communication styles impact team dynamics? Is it possible to boost creativity through structured brainstorming sessions, or do they stifle innovation? What role does technology play in maintaining work-life balance? Should companies prioritize flexibility over traditional work hours, and what are the potential downsides of doing so? How can organizations ensure that they are fostering an inclusive culture for employees from diverse backgrounds? What metrics should be used to evaluate employee satisfaction effectively? Is there a way to quantify the long-term benefits of professional development programs? How can leaders balance transparency with confidentiality in decision-making?\n",
      "Output:\n",
      "No notable claims found.\n",
      "\n",
      "Text: \n",
      "        Eboni Thompson’s Instagram isn’t just an ode to the classic literature that she loves. It’s also a celebration of annotation: Warmly lit video reels linger on the colorful tabs that fringe the edges of her Penguin Classics, the ruler-straight lines highlighting important passages and the margins where neat handwriting frames each page.\n",
      "\n",
      "        Annotations have traditionally been the domain of academics, used to add commentary, feedback and criticism to texts. Annotation is “elemental to scholarship,” according to Remi Kalir and Antero Garcia, who literally wrote the book on annotation (“Annotation,” MIT Press). As a reminder of the high-minded history of marginalia, they note that Milton annotated Shakespeare.\n",
      "    \n",
      "Output:\n",
      "Excerpt: 'Annotation is “elemental to scholarship,” according to Remi Kalir and Antero Garcia'\n",
      "Restatement: Remi Kalir and Antero Garcia said that annotation is elemental to scholarship.\n",
      "Excerpt: 'who literally wrote the book on annotation (“Annotation,” MIT Press)'\n",
      "Restatement: Remi Kalir and Antero Garcia wrote a book on annotation.\n",
      "\n",
      "Text: BREAKING NEWS: BEYONCE WAS INVOLVED IN A HORRIFIC CAR CRASH! #RIPBEYONCE\n",
      "Output:\n",
      "Excerpt:'BEYONCE WAS INVOLVED IN A HORRIFIC CAR CRASH! #RIPBEYONCE'\n",
      "Restatement: Beyonce has died in a car crash.\n",
      "\n",
      "\n",
      "\n",
      "Now, process the following text accordingly.\n",
      "\n",
      "Text: “Did you know the Kamala price hikes have cost the average American family $28,000?”\n",
      "— Donald Trump, in a TikTok video, Aug. 15\n",
      "Get the latest election news and results\n",
      "“As a result of Kamala’s inflation price hikes, they’ve cost the typical household a total of $28,000. These are numbers coming from the government. They are not coming from me.”\n",
      "— Trump, media event in Bedminster, N.J., Aug. 15\n"
     ]
    }
   ],
   "source": [
    "print(\n",
    "claim_parse_prompt.invoke({\"input\": \"\"\"“Did you know the Kamala price hikes have cost the average American family $28,000?”\n",
    "— Donald Trump, in a TikTok video, Aug. 15\n",
    "Get the latest election news and results\n",
    "“As a result of Kamala’s inflation price hikes, they’ve cost the typical household a total of $28,000. These are numbers coming from the government. They are not coming from me.”\n",
    "— Trump, media event in Bedminster, N.J., Aug. 15\"\"\"}).to_string()\n",
    ")"
   ]
  },
  {
   "cell_type": "code",
   "execution_count": 67,
   "id": "5272489e-b642-4dc8-96db-3f3f08cfede6",
   "metadata": {
    "tags": []
   },
   "outputs": [
    {
     "name": "stdout",
     "output_type": "stream",
     "text": [
      "Here are the notable claims with their corresponding excerpts and restatements:\n",
      "\n",
      "Excerpt: 'Other economists were skeptical of Antoni’s math — a combination of two calculations involving purchasing and borrowing costs'\n",
      "Restatement: Some economists questioned the math used by Antoni.\n",
      "\n",
      "Excerpt: 'and pointed to more reliable metrics, such as real disposable personal income per capita.'\n",
      "Restatement: Economists suggested using more reliable metrics, including real disposable personal income per capita.\n",
      "\n",
      "Excerpt: 'Many such statistics are affected by the pandemic'\n",
      "Restatement: Many statistics are impacted by the pandemic.\n",
      "\n",
      "Excerpt: 'But real disposable income per capita now is up about $3,000 since March 2020'\n",
      "Restatement: Real disposable income per capita has increased by approximately $3,000 since March 2020.\n",
      "CPU times: user 34.6 ms, sys: 1.82 ms, total: 36.4 ms\n",
      "Wall time: 1.68 s\n"
     ]
    }
   ],
   "source": [
    "%%time \n",
    "new_input = \"Other economists were skeptical of Antoni’s math — a combination of two calculations involving purchasing and borrowing costs — and pointed to more reliable metrics, such as real disposable personal income per capita. Many such statistics are affected by the pandemic, adding to the complexity. But real disposable income per capita now is up about $3,000 since March 2020, just before temporary covid relief payments start showing up in the data and skew it for more than a year.\"\n",
    "\n",
    "# Define the chain with LangChain’s LLMChain\n",
    "few_shot_claim_chain = LLMChain(llm=ollama_model, prompt=claim_parse_prompt)\n",
    "\n",
    "# Example of querying through the chain\n",
    "response = few_shot_claim_chain.run(input=new_input)\n",
    "print(response)"
   ]
  },
  {
   "cell_type": "code",
   "execution_count": 68,
   "id": "a864ea08-ab61-4f11-9b74-141ce125eb86",
   "metadata": {
    "tags": []
   },
   "outputs": [
    {
     "name": "stdout",
     "output_type": "stream",
     "text": [
      "Here are the notable claims with their excerpts and restatements:\n",
      "\n",
      "1. Excerpt: “Did you know the Kamala price hikes have cost the average American family $28,000?”\n",
      "Restatement: The average American family has been affected by price hikes under Kamala Harris's leadership.\n",
      "\n",
      "2. Excerpt: “As a result of Kamala’s inflation price hikes, they’ve cost the typical household a total of $28,000. These are numbers coming from the government. They are not coming from me.”\n",
      "Restatement: The typical household has been affected by price hikes under Kamala Harris's leadership to the tune of $28,000, according to government data.\n",
      "\n",
      "3. Excerpt: 'who literally wrote the book on annotation (“Annotation,” MIT Press)'\n",
      "Restatement: Remi Kalir and Antero Garcia wrote a book on annotation.\n",
      "\n",
      "Note that there are three notable claims in this text.\n"
     ]
    }
   ],
   "source": [
    "quoted_input = \"\"\"“Did you know the Kamala price hikes have cost the average American family $28,000?”\n",
    "— Donald Trump, in a TikTok video, Aug. 15\n",
    "Get the latest election news and results\n",
    "“As a result of Kamala’s inflation price hikes, they’ve cost the typical household a total of $28,000. These are numbers coming from the government. They are not coming from me.”\n",
    "— Trump, media event in Bedminster, N.J., Aug. 15\"\"\"\n",
    "\n",
    "response = few_shot_claim_chain.run(input=quoted_input)\n",
    "print(response)"
   ]
  },
  {
   "cell_type": "code",
   "execution_count": 69,
   "id": "f38f6b12-9257-47d1-a0b9-b9a74eb4a659",
   "metadata": {
    "tags": []
   },
   "outputs": [
    {
     "name": "stdout",
     "output_type": "stream",
     "text": [
      "No notable claims found.\n"
     ]
    }
   ],
   "source": [
    "response = few_shot_claim_chain.run(input=\"Who's there?\")\n",
    "print(response)"
   ]
  },
  {
   "cell_type": "code",
   "execution_count": 70,
   "id": "d6638d94-cdad-46b6-bd3a-5de7d0073d91",
   "metadata": {
    "tags": []
   },
   "outputs": [
    {
     "name": "stdout",
     "output_type": "stream",
     "text": [
      "Excerpt: 'I shot the sheriff, but I did not shoot the deputy'\n",
      "Restatement: Bob Marley said he killed the sheriff, but not the deputy.\n"
     ]
    }
   ],
   "source": [
    "response = few_shot_claim_chain.run(input=\"'I shot the sheriff, but I did not shoot the deputy'\\n- Bob Marley\")\n",
    "print(response)"
   ]
  },
  {
   "cell_type": "code",
   "execution_count": null,
   "id": "cf0c103a-9fcf-41e6-a8d7-a0d4465a1021",
   "metadata": {},
   "outputs": [],
   "source": []
  }
 ],
 "metadata": {
  "kernelspec": {
   "display_name": "Python 3 (ipykernel)",
   "language": "python",
   "name": "python3"
  },
  "language_info": {
   "codemirror_mode": {
    "name": "ipython",
    "version": 3
   },
   "file_extension": ".py",
   "mimetype": "text/x-python",
   "name": "python",
   "nbconvert_exporter": "python",
   "pygments_lexer": "ipython3",
   "version": "3.10.10"
  }
 },
 "nbformat": 4,
 "nbformat_minor": 5
}
