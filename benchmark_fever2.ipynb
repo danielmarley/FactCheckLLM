{
 "cells": [
  {
   "cell_type": "markdown",
   "id": "bae29b4a-e869-4993-a5c4-57784cefcd07",
   "metadata": {},
   "source": [
    "# Benchmarking FEVER 2 Suite"
   ]
  },
  {
   "cell_type": "code",
   "execution_count": 1,
   "id": "7a26c1af-3af1-4046-909d-46365edaabc1",
   "metadata": {
    "tags": []
   },
   "outputs": [
    {
     "name": "stderr",
     "output_type": "stream",
     "text": [
      "[nltk_data] Downloading package punkt to /root/nltk_data...\n",
      "[nltk_data]   Package punkt is already up-to-date!\n"
     ]
    }
   ],
   "source": [
    "from langchain_community.llms import Ollama\n",
    "from factCheck import factCheckSingleClaim, factCheckSingleClaimNoContext\n",
    "\n",
    "OLLAMA_HOST = \"http://host.docker.internal:11434\" # for when running within docker image\n",
    "# OLLAMA_HOST = \"http://localhost:11434\"\n",
    " \n",
    "ollama3 = Ollama(model=\"llama3\", base_url=OLLAMA_HOST)\n",
    "ollama32 = Ollama(model=\"llama3.2\", base_url=OLLAMA_HOST)\n",
    "\n",
    "claimCount = 100"
   ]
  },
  {
   "cell_type": "code",
   "execution_count": 2,
   "id": "62d4c2db-0191-40f6-9ac5-427cc7f838bc",
   "metadata": {
    "tags": []
   },
   "outputs": [],
   "source": [
    "from sklearn.metrics import accuracy_score, f1_score\n",
    "\n",
    "# Evaluation function\n",
    "def evaluate_model(predictions, y):\n",
    "    for idx in range(len(predictions)):\n",
    "        if y[idx] in predictions[idx]:\n",
    "            predictions[idx] = y[idx];\n",
    "        else:\n",
    "            predictions[idx] = predictions[idx][0];\n",
    "    \n",
    "    # Ensure predictions and dataset labels are aligned\n",
    "    accuracy = accuracy_score(y, predictions)\n",
    "    f1 = f1_score(y, predictions, average='weighted')\n",
    "    return accuracy, f1"
   ]
  },
  {
   "cell_type": "code",
   "execution_count": 3,
   "id": "84c9ea99-b1cb-42b0-881a-d001cbd0a1ef",
   "metadata": {
    "tags": []
   },
   "outputs": [],
   "source": [
    "from benchmarking.FEVER.feverEval import get_fever_sample\n",
    "\n",
    "dfFever = get_fever_sample(claimCount, './benchmarking/FEVER/train.jsonl', 42)"
   ]
  },
  {
   "cell_type": "code",
   "execution_count": 4,
   "id": "1b6831e1-840e-4c27-ae1b-dc3ab0787b67",
   "metadata": {
    "tags": []
   },
   "outputs": [
    {
     "name": "stdout",
     "output_type": "stream",
     "text": [
      "CLAIM: Cricket is followed in Cuba.\n",
      "Cache miss. Fetching data from website.\n",
      "FactCheck Articles: []\n",
      "Cache miss. Fetching data from API.\n",
      "News Articles: [{'title': 'Vodka Casino Live Casino  Free spins for beginners  Big games catalog', 'url': 'https://www.pausaparafeminices.com/news/vodka-casino-live-casino-free-spins-for-beginners-23/'}, {'title': 'Notes on Guyana', 'url': 'https://mattlakeman.org/2024/11/08/notes-on-guyana/'}]\n",
      "Cache miss. Fetching data from website.\n",
      "Error calling snopes, skipping: Page.goto: Timeout 30000ms exceeded.\n",
      "Call log:\n",
      "navigating to \"https://www.snopes.com/search/?#gsc.tab=0&gsc.page=1&gsc.q=Cricket%20is%20followed%20in%20Cuba.\", waiting until \"load\"\n",
      "\n",
      "Snopes Articles: [{'title': 'Vodka Casino Live Casino  Free spins for beginners  Big games catalog', 'url': 'https://www.pausaparafeminices.com/news/vodka-casino-live-casino-free-spins-for-beginners-23/'}, {'title': 'Notes on Guyana', 'url': 'https://mattlakeman.org/2024/11/08/notes-on-guyana/'}]\n",
      "Cache miss. Fetching data from website.\n",
      "Found 40 articles\n",
      "Politifact Articles: [{'title': 'Vodka Casino Live Casino  Free spins for beginners  Big games catalog', 'url': 'https://www.pausaparafeminices.com/news/vodka-casino-live-casino-free-spins-for-beginners-23/'}, {'title': 'Notes on Guyana', 'url': 'https://mattlakeman.org/2024/11/08/notes-on-guyana/'}, {'title': '\"Virginia now is the number one exporter of (agricultural) products to Cuba. We have now jumped to number one.\"', 'url': 'https://www.politifact.com/factchecks/2016/mar/24/terry-mcauliffe/mcauliffe-right-va-sends-most-agricultural-product/'}, {'title': 'Says his parents \"came to America following Fidel Castro\\'s takeover\" of Cuba.', 'url': 'https://www.politifact.com/factchecks/2011/oct/21/marco-rubio/sen-marco-rubio-said-his-parents-came-america-foll/'}]\n",
      "CLAIM: Quebec has a region inhabited primarily by Canadian Aboriginal peoples.\n",
      "Cache miss. Fetching data from website.\n",
      "FactCheck Articles: []\n",
      "Cache miss. Fetching data from API.\n",
      "News Articles: []\n",
      "Cache miss. Fetching data from website.\n",
      "Error calling snopes, skipping: Page.goto: Timeout 30000ms exceeded.\n",
      "Call log:\n",
      "navigating to \"https://www.snopes.com/search/?#gsc.tab=0&gsc.page=1&gsc.q=Quebec%20has%20a%20region%20inhabited%20primarily%20by%20Canadian%20Aboriginal%20peoples.\", waiting until \"load\"\n",
      "\n",
      "Snopes Articles: []\n",
      "Cache miss. Fetching data from website.\n",
      "Found 40 articles\n",
      "Politifact Articles: [{'title': 'Arson, not climate change, caused Canada’s record 2023 wildfire season.', 'url': 'https://www.politifact.com/factchecks/2024/feb/12/instagram-posts/small-number-of-arsons-dont-negate-climate-changes/'}, {'title': 'Video shows that Royal Canadian Mounted Police investigators determined that “dozens of wildfires in Canada” were caused by arson in 2023.', 'url': 'https://www.politifact.com/factchecks/2023/jul/20/facebook-posts/claims-connecting-arsonists-to-dozens-of-recent-wi/'}]\n",
      "CLAIM: Cricket is followed in Cuba.\n",
      "FactCheck Articles: []\n",
      "News Articles: [{'title': 'Vodka Casino Live Casino  Free spins for beginners  Big games catalog', 'url': 'https://www.pausaparafeminices.com/news/vodka-casino-live-casino-free-spins-for-beginners-23/'}, {'title': 'Notes on Guyana', 'url': 'https://mattlakeman.org/2024/11/08/notes-on-guyana/'}]\n",
      "Cache miss. Fetching data from website.\n",
      "Found 1 articles\n",
      "Snopes Articles: [{'title': 'Vodka Casino Live Casino  Free spins for beginners  Big games catalog', 'url': 'https://www.pausaparafeminices.com/news/vodka-casino-live-casino-free-spins-for-beginners-23/'}, {'title': 'Notes on Guyana', 'url': 'https://mattlakeman.org/2024/11/08/notes-on-guyana/'}]\n",
      "Politifact Articles: [{'title': 'Vodka Casino Live Casino  Free spins for beginners  Big games catalog', 'url': 'https://www.pausaparafeminices.com/news/vodka-casino-live-casino-free-spins-for-beginners-23/'}, {'title': 'Notes on Guyana', 'url': 'https://mattlakeman.org/2024/11/08/notes-on-guyana/'}, {'title': '\"Virginia now is the number one exporter of (agricultural) products to Cuba. We have now jumped to number one.\"', 'url': 'https://www.politifact.com/factchecks/2016/mar/24/terry-mcauliffe/mcauliffe-right-va-sends-most-agricultural-product/'}, {'title': 'Says his parents \"came to America following Fidel Castro\\'s takeover\" of Cuba.', 'url': 'https://www.politifact.com/factchecks/2011/oct/21/marco-rubio/sen-marco-rubio-said-his-parents-came-america-foll/'}]\n",
      "CLAIM: Quebec has a region inhabited primarily by Canadian Aboriginal peoples.\n",
      "FactCheck Articles: []\n",
      "News Articles: []\n",
      "Cache miss. Fetching data from website.\n",
      "Error calling snopes, skipping: Page.goto: Timeout 30000ms exceeded.\n",
      "Call log:\n",
      "navigating to \"https://www.snopes.com/search/?#gsc.tab=0&gsc.page=1&gsc.q=Quebec%20has%20a%20region%20inhabited%20primarily%20by%20Canadian%20Aboriginal%20peoples.\", waiting until \"load\"\n",
      "\n",
      "Snopes Articles: []\n",
      "Politifact Articles: [{'title': 'Arson, not climate change, caused Canada’s record 2023 wildfire season.', 'url': 'https://www.politifact.com/factchecks/2024/feb/12/instagram-posts/small-number-of-arsons-dont-negate-climate-changes/'}, {'title': 'Video shows that Royal Canadian Mounted Police investigators determined that “dozens of wildfires in Canada” were caused by arson in 2023.', 'url': 'https://www.politifact.com/factchecks/2023/jul/20/facebook-posts/claims-connecting-arsonists-to-dozens-of-recent-wi/'}]\n",
      "4 minutes and 10.94 seconds\n"
     ]
    }
   ],
   "source": [
    "import time\n",
    "from datetime import datetime\n",
    "start_time = time.time()\n",
    "\n",
    "feverMapping = {\n",
    "    \"true\": [\"SUPPORTS\"],\n",
    "    \"mostly true\": [\"SUPPORTS\"],\n",
    "    \"mostly false\": [\"REFUTES\"],\n",
    "    \"false\": [\"REFUTES\"],\n",
    "    \"not enough evidence\": [\"NOT ENOUGH INFO\"]\n",
    "}\n",
    "\n",
    "modelResults = [{'name': 'FactCheck3'}, {'name': 'FactCheck32'}]\n",
    "for modelIndex, model in enumerate([ollama3, ollama32]):\n",
    "    # FactCheckLLM check\n",
    "    origPred = []\n",
    "    feverPred = []\n",
    "    responses = []\n",
    "    for row in dfFever.iterrows(): \n",
    "        pred = await factCheckSingleClaim(row[1]['claim'], model, True)\n",
    "        origPred.append(pred['label'].lower())\n",
    "        pred['label'] = feverMapping[pred['label'].lower()]\n",
    "        feverPred.append(pred['label'])\n",
    "        responses.append(pred['reply'])\n",
    "        \n",
    "    modelResults[modelIndex]['dataset'] = 'FEVER';\n",
    "    modelResults[modelIndex]['original-prediction'] = origPred;\n",
    "    modelResults[modelIndex]['mapped-predictions'] = feverPred;\n",
    "    modelResults[modelIndex]['res'] = responses;\n",
    "    \n",
    "    acc, f1 = evaluate_model(feverPred, dfFever['label'].values)\n",
    "    modelResults[modelIndex]['acc'] = acc\n",
    "    modelResults[modelIndex]['f1'] = f1\n",
    "    \n",
    "end_time = time.time()\n",
    "elapsed_time = end_time - start_time\n",
    "minutes, seconds = divmod(elapsed_time, 60)\n",
    "print(f\"{int(minutes)} minutes and {seconds:.2f} seconds\")"
   ]
  },
  {
   "cell_type": "code",
   "execution_count": 5,
   "id": "00e37273-d42d-46c8-9e3a-6375e527b055",
   "metadata": {
    "tags": []
   },
   "outputs": [
    {
     "data": {
      "image/png": "[encoded data removed]",
      "text/plain": [
       "<Figure size 640x480 with 1 Axes>"
      ]
     },
     "metadata": {},
     "output_type": "display_data"
    }
   ],
   "source": [
    "import matplotlib.pyplot as plt\n",
    "import numpy as np\n",
    "\n",
    "# Benchmark data\n",
    "models =  [item[\"name\"] for item in modelResults]\n",
    "acc = [item[\"acc\"] for item in modelResults]\n",
    "f1 = [item[\"f1\"] for item in modelResults]\n",
    "\n",
    "# Bar chart parameters\n",
    "x = np.arange(len(models))  # Position of bars\n",
    "width = 0.4  # Width of bars\n",
    "\n",
    "# Create the plot\n",
    "fig, ax = plt.subplots()\n",
    "bars = ax.bar(x, acc, width, color=['blue', 'green', 'purple', 'orange'])\n",
    "\n",
    "# Add labels, title, and custom ticks\n",
    "ax.set_xlabel('Models')\n",
    "ax.set_ylabel('Acc. Scores')\n",
    "ax.set_title('Comparison of Benchmark Accuracy')\n",
    "ax.set_xticks(x)\n",
    "ax.set_xticklabels(models)\n",
    "ax.set_ylim(0, 1)  # Adjust y-axis range if needed\n",
    "ax.bar_label(bars, fmt='%.2f', padding=3)  # Add values on top of bars\n",
    "\n",
    "# Show the chart\n",
    "plt.tight_layout()\n",
    "plt.show()"
   ]
  },
  {
   "cell_type": "code",
   "execution_count": 6,
   "id": "4b3939e2-c642-4322-95d2-52884e6afb6c",
   "metadata": {
    "tags": []
   },
   "outputs": [
    {
     "data": {
      "image/png": "[encoded data removed]",
      "text/plain": [
       "<Figure size 640x480 with 1 Axes>"
      ]
     },
     "metadata": {},
     "output_type": "display_data"
    }
   ],
   "source": [
    "# Bar chart parameters\n",
    "x = np.arange(len(models))  # Position of bars\n",
    "width = 0.4  # Width of bars\n",
    "\n",
    "# Create the plot\n",
    "fig, ax = plt.subplots()\n",
    "bars = ax.bar(x, f1, width, color=['blue', 'green', 'purple', 'orange'])\n",
    "\n",
    "# Add labels, title, and custom ticks\n",
    "ax.set_xlabel('Models')\n",
    "ax.set_ylabel('F1 Scores')\n",
    "ax.set_title('Comparison of Benchmark F1')\n",
    "ax.set_xticks(x)\n",
    "ax.set_xticklabels(models)\n",
    "ax.set_ylim(0, 1)  # Adjust y-axis range if needed\n",
    "ax.bar_label(bars, fmt='%.2f', padding=3)  # Add values on top of bars\n",
    "\n",
    "# Show the chart\n",
    "plt.tight_layout()\n",
    "plt.show()"
   ]
  },
  {
   "cell_type": "code",
   "execution_count": 7,
   "id": "f85e6889-743e-46f2-9f60-6d40f9e760b2",
   "metadata": {
    "tags": []
   },
   "outputs": [],
   "source": [
    "import pickle\n",
    "\n",
    "feverResults = (dfFever['claim'].values, modelResults)\n",
    "\n",
    "# Save to Pickle file\n",
    "with open(\"benchmarking/FEVER/results2.pkl\", \"wb\") as f:\n",
    "    pickle.dump(feverResults, f)\n",
    "\n",
    "# # Load from Pickle file\n",
    "# with open(\"benchmarking/AVERITEC/results.pkl\", \"rb\") as f:\n",
    "#     loaded_data = pickle.load(f)"
   ]
  },
  {
   "cell_type": "code",
   "execution_count": null,
   "id": "c08a21dc-a638-4094-b362-cc3ee2289a00",
   "metadata": {},
   "outputs": [],
   "source": []
  }
 ],
 "metadata": {
  "kernelspec": {
   "display_name": "Python 3 (ipykernel)",
   "language": "python",
   "name": "python3"
  },
  "language_info": {
   "codemirror_mode": {
    "name": "ipython",
    "version": 3
   },
   "file_extension": ".py",
   "mimetype": "text/x-python",
   "name": "python",
   "nbconvert_exporter": "python",
   "pygments_lexer": "ipython3",
   "version": "3.10.10"
  }
 },
 "nbformat": 4,
 "nbformat_minor": 5
}
